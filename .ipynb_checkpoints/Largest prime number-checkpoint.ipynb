{
 "cells": [
  {
   "cell_type": "markdown",
   "id": "8c39758b",
   "metadata": {},
   "source": [
    "# Largest primer number\n",
    "\n",
    "## Resumen\n",
    "\n",
    "The prime factors of 13195 are 5, 7, 13 and 29.\n",
    "\n",
    "What is the largest prime factor of the number 600851475143 ?"
   ]
  },
  {
   "cell_type": "code",
   "execution_count": 2,
   "id": "ed3b1717",
   "metadata": {},
   "outputs": [],
   "source": [
    "def is_prime(n):\n",
    "    x = 2\n",
    "    if n <= 1:\n",
    "        return 1\n",
    "    else:\n",
    "        while (x * x) <= n:\n",
    "            #print(x)\n",
    "            #print(n%x)\n",
    "            if n%x==0:\n",
    "                return 0\n",
    "            x = x + 1\n",
    "        return 1"
   ]
  },
  {
   "cell_type": "code",
   "execution_count": 33,
   "id": "4cc5b24e",
   "metadata": {},
   "outputs": [],
   "source": [
    "def prime_factor(n):\n",
    "    prime_factors = []\n",
    "    if n < 0:\n",
    "        return (f'{n} es un número negativo y no puede tener factorial primo')\n",
    "    else:\n",
    "        i = 2 \n",
    "        num = n\n",
    "        while i*i<=n:\n",
    "            \n",
    "            prime = is_prime(i)\n",
    "            #print(prime)\n",
    "            if prime == 1 and num%i==0:\n",
    "                #print(f'{i} es primo')\n",
    "                #print(f'{num} divido por {i}')\n",
    "                num = num/i\n",
    "                #print (f'Resultado de la división {num}')\n",
    "                prime_factors.append(i)\n",
    "                #print('hola')\n",
    "                if num%i == 0:\n",
    "                    #print('hola de nuevo')\n",
    "                    while num%i == 0:\n",
    "                        num = num/i\n",
    "                else:\n",
    "                    \n",
    "                    num = round(num*i)\n",
    "                    \n",
    "                    i+=1\n",
    "            else:\n",
    "                i+=1\n",
    "                \n",
    "    return f'{prime_factors[-1]} es el factorial primo mas alto'\n",
    "                        "
   ]
  },
  {
   "cell_type": "code",
   "execution_count": 37,
   "id": "cf340fd9",
   "metadata": {},
   "outputs": [
    {
     "data": {
      "text/plain": [
       "'6857 es el factorial primo mas alto'"
      ]
     },
     "execution_count": 37,
     "metadata": {},
     "output_type": "execute_result"
    }
   ],
   "source": [
    "prime_factor(600851475143)"
   ]
  },
  {
   "cell_type": "code",
   "execution_count": null,
   "id": "57f2ad4b",
   "metadata": {},
   "outputs": [],
   "source": []
  }
 ],
 "metadata": {
  "kernelspec": {
   "display_name": "Python 3 (ipykernel)",
   "language": "python",
   "name": "python3"
  },
  "language_info": {
   "codemirror_mode": {
    "name": "ipython",
    "version": 3
   },
   "file_extension": ".py",
   "mimetype": "text/x-python",
   "name": "python",
   "nbconvert_exporter": "python",
   "pygments_lexer": "ipython3",
   "version": "3.8.11"
  }
 },
 "nbformat": 4,
 "nbformat_minor": 5
}
