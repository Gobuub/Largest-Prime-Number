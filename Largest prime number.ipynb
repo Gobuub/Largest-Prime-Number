{
 "cells": [
  {
   "cell_type": "markdown",
   "id": "8c39758b",
   "metadata": {},
   "source": [
    "# Largest primer number\n",
    "\n",
    "## Resumen\n",
    "\n",
    "The prime factors of 13195 are 5, 7, 13 and 29.\n",
    "\n",
    "What is the largest prime factor of the number 600851475143 ?"
   ]
  },
  {
   "cell_type": "markdown",
   "id": "f2b85d18",
   "metadata": {},
   "source": [
    "### Primero creamos una función auxiliar para chequear que un número es primo."
   ]
  },
  {
   "cell_type": "code",
   "execution_count": 2,
   "id": "ed3b1717",
   "metadata": {},
   "outputs": [],
   "source": [
    "def is_prime(n):\n",
    "    '''\n",
    "        This funciton takes a number and check if it is prime or not\n",
    "        \n",
    "        Parameters.\n",
    "        -----------\n",
    "        \n",
    "        An integer\n",
    "        \n",
    "        Returns.\n",
    "        ---------\n",
    "        \n",
    "        1 if n is prime or less than 1\n",
    "        0 if n is not a prime number\n",
    "    '''\n",
    "    x = 2\n",
    "    if n <= 1:\n",
    "        return 1\n",
    "    else:\n",
    "        while (x * x) <= n:\n",
    "            if n%x==0:\n",
    "                return 0\n",
    "            x = x + 1\n",
    "        return 1"
   ]
  },
  {
   "cell_type": "markdown",
   "id": "8c881f54",
   "metadata": {},
   "source": [
    "## Ahora creamos la función principal que usaremos para resolver el problema que nos presentan"
   ]
  },
  {
   "cell_type": "code",
   "execution_count": 33,
   "id": "4cc5b24e",
   "metadata": {},
   "outputs": [],
   "source": [
    "def prime_factor(n):\n",
    "    '''\n",
    "        This function extract the factors of an integer and store it in a list if it is a prime number\n",
    "        \n",
    "    Parameters.\n",
    "    -----------\n",
    "        Function must receive a positive integer\n",
    "    \n",
    "    Returns.\n",
    "    --------\n",
    "        If n is a negative integer returns a message saying that number is incorrect.\n",
    "        If n is a positive integer returns the largest prime factor of n.\n",
    "    '''\n",
    "    prime_factors = []\n",
    "    if n < 0:\n",
    "        return (f'{n} es un número negativo y no puede tener factorial primo')\n",
    "    else:\n",
    "        i = 2 \n",
    "        num = n\n",
    "        while i*i<=n:\n",
    "            \n",
    "            prime = is_prime(i)\n",
    "\n",
    "            if prime == 1 and num%i==0:\n",
    "    \n",
    "                num = num/i\n",
    "              \n",
    "                prime_factors.append(i)\n",
    "            \n",
    "                if num%i == 0:\n",
    "                   \n",
    "                    while num%i == 0:\n",
    "                        num = num/i\n",
    "                else:\n",
    "                    \n",
    "                    num = round(num*i)\n",
    "                    \n",
    "                    i+=1\n",
    "            else:\n",
    "                i+=1\n",
    "                \n",
    "    return f'{prime_factors[-1]} es el factorial primo mas alto'\n",
    "                        "
   ]
  },
  {
   "cell_type": "code",
   "execution_count": 37,
   "id": "cf340fd9",
   "metadata": {},
   "outputs": [
    {
     "data": {
      "text/plain": [
       "'6857 es el factorial primo mas alto'"
      ]
     },
     "execution_count": 37,
     "metadata": {},
     "output_type": "execute_result"
    }
   ],
   "source": [
    "prime_factor(600851475143)"
   ]
  },
  {
   "cell_type": "code",
   "execution_count": null,
   "id": "a5198846",
   "metadata": {},
   "outputs": [],
   "source": []
  }
 ],
 "metadata": {
  "kernelspec": {
   "display_name": "Python 3 (ipykernel)",
   "language": "python",
   "name": "python3"
  },
  "language_info": {
   "codemirror_mode": {
    "name": "ipython",
    "version": 3
   },
   "file_extension": ".py",
   "mimetype": "text/x-python",
   "name": "python",
   "nbconvert_exporter": "python",
   "pygments_lexer": "ipython3",
   "version": "3.8.11"
  }
 },
 "nbformat": 4,
 "nbformat_minor": 5
}
